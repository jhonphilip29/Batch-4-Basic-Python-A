{
 "cells": [
  {
   "cell_type": "markdown",
   "id": "polar-marks",
   "metadata": {},
   "source": [
    "# Soal 1"
   ]
  },
  {
   "cell_type": "code",
   "execution_count": 16,
   "id": "interior-monkey",
   "metadata": {},
   "outputs": [
    {
     "name": "stdin",
     "output_type": "stream",
     "text": [
      "Masukkan Nama Jhon\n",
      "Masukkan Umur 25\n",
      "Masukkan Tinggi Badan 180\n"
     ]
    },
    {
     "name": "stdout",
     "output_type": "stream",
     "text": [
      " \n",
      "Nama saya Jhon, umur saya 25 tahun dan tinggi saya 180.0 cm.\n"
     ]
    }
   ],
   "source": [
    "Nama = input(\"Masukkan Nama\")\n",
    "Umur = int(input(\"Masukkan Umur\"))\n",
    "Tinggi = float(input(\"Masukkan Tinggi Badan\"))\n",
    "\n",
    "a = \"Nama saya {}, umur saya {} tahun dan tinggi saya {} cm.\".format(Nama,Umur,Tinggi)\n",
    "print(\" \")\n",
    "print(a)"
   ]
  },
  {
   "cell_type": "markdown",
   "id": "verified-roots",
   "metadata": {},
   "source": [
    "# Soal 2"
   ]
  },
  {
   "cell_type": "code",
   "execution_count": 17,
   "id": "european-saturday",
   "metadata": {},
   "outputs": [
    {
     "name": "stdin",
     "output_type": "stream",
     "text": [
      "Masukkan jari-jari lingkaran 10\n"
     ]
    },
    {
     "name": "stdout",
     "output_type": "stream",
     "text": [
      " \n",
      "Luas lingkaran dengan jari-jari 10 cm adalah 314.2857142857143 cm².\n"
     ]
    }
   ],
   "source": [
    "phi = 22/7\n",
    "r = int(input(\"Masukkan jari-jari lingkaran\"))\n",
    "L = phi*r**2\n",
    "b = \"Luas lingkaran dengan jari-jari {} cm adalah {} cm\\u00b2.\".format(r,L)\n",
    "print(\" \")\n",
    "print(b)"
   ]
  },
  {
   "cell_type": "markdown",
   "id": "injured-bishop",
   "metadata": {},
   "source": [
    "# Soal 2.1"
   ]
  },
  {
   "cell_type": "code",
   "execution_count": 19,
   "id": "demonstrated-character",
   "metadata": {},
   "outputs": [
    {
     "name": "stdin",
     "output_type": "stream",
     "text": [
      "Masukkan jari-jari lingkaran 10\n"
     ]
    },
    {
     "name": "stdout",
     "output_type": "stream",
     "text": [
      " \n",
      "Luas lingkaran dengan jari-jari 10 cm adalah 314.29 cm².\n"
     ]
    }
   ],
   "source": [
    "phi = 22/7\n",
    "r = int(input(\"Masukkan jari-jari lingkaran\"))\n",
    "L = phi*r**2\n",
    "b = \"Luas lingkaran dengan jari-jari {} cm adalah {:.2f} cm\\u00b2.\".format(r,L)\n",
    "print(\" \")\n",
    "print(b)"
   ]
  },
  {
   "cell_type": "markdown",
   "id": "unnecessary-wilderness",
   "metadata": {},
   "source": [
    "# Soal 3"
   ]
  },
  {
   "cell_type": "code",
   "execution_count": 28,
   "id": "allied-casino",
   "metadata": {},
   "outputs": [
    {
     "name": "stdin",
     "output_type": "stream",
     "text": [
      "Masukkan Nilai Teori Siswa 70.1\n",
      "Masukkan input Nilai Praktek Siswa 69.9\n"
     ]
    },
    {
     "name": "stdout",
     "output_type": "stream",
     "text": [
      "Anda harus mengulang ujian praktek.\n"
     ]
    }
   ],
   "source": [
    "NilaiTeori= float(input(\"Masukkan Nilai Teori Siswa\"))\n",
    "NilaiPraktek= float(input(\"Masukkan input Nilai Praktek Siswa\"))\n",
    "\n",
    "if (NilaiTeori>=70) and (NilaiPraktek>=70):\n",
    "    print(\"Selamat, anda lulus!\")\n",
    "elif (NilaiTeori>=70) and (NilaiPraktek<70):\n",
    "    print(\"Anda harus mengulang ujian praktek.\")\n",
    "elif (NilaiTeori<70) and (NilaiPraktek>=70):\n",
    "    print(\"Anda harus mengulang ujian teori.\")\n",
    "else:\n",
    "    print(\"Anda harus mengulang ujian teori dan praktek.\")"
   ]
  },
  {
   "cell_type": "code",
   "execution_count": null,
   "id": "retained-manufacturer",
   "metadata": {},
   "outputs": [],
   "source": []
  }
 ],
 "metadata": {
  "kernelspec": {
   "display_name": "Python 3",
   "language": "python",
   "name": "python3"
  },
  "language_info": {
   "codemirror_mode": {
    "name": "ipython",
    "version": 3
   },
   "file_extension": ".py",
   "mimetype": "text/x-python",
   "name": "python",
   "nbconvert_exporter": "python",
   "pygments_lexer": "ipython3",
   "version": "3.9.1"
  }
 },
 "nbformat": 4,
 "nbformat_minor": 5
}
