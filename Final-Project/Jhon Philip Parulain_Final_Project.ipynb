{
 "cells": [
  {
   "cell_type": "markdown",
   "id": "controversial-reggae",
   "metadata": {},
   "source": [
    "# Final Project - Basic Python "
   ]
  },
  {
   "cell_type": "code",
   "execution_count": 4,
   "id": "military-break",
   "metadata": {},
   "outputs": [
    {
     "name": "stdout",
     "output_type": "stream",
     "text": [
      "================================\n",
      "PROGRAM KIRIM EMAIL OTOMATIS\n",
      "================================\n"
     ]
    },
    {
     "name": "stdin",
     "output_type": "stream",
     "text": [
      "Login to Gmail Account:  tobing.jhon@gmail.com\n",
      "Masukkan password:  ···········\n",
      "Masukkan jumlah penerima:  2\n",
      "Masukkan email penerima:  tobing.jhon@gmail.com\n",
      "Masukkan email penerima:  bartadiekoprabowo@gmail.com\n",
      "Masukkan subject (wajib):  TEST\n",
      "Masukkan pesan anda:  This is an email with attachment sent from Python.\n",
      "Ada attachment ? (Y/N):  Y\n",
      "Attachment (1 file):  Attach.txt\n"
     ]
    },
    {
     "name": "stdout",
     "output_type": "stream",
     "text": [
      "\n",
      "Email succesfully sent\n",
      "-----------------------------------------\n"
     ]
    }
   ],
   "source": [
    "#https://www.pythonindo.com/cara-mengirim-email-menggunakan-python/\n",
    "#https://stackoverflow.com/questions/6270782/how-to-send-an-email-with-python\n",
    "#https://realpython.com/python-send-email/\n",
    "\n",
    "import smtplib \n",
    "from email.mime.multipart import MIMEMultipart \n",
    "from email.mime.text import MIMEText \n",
    "from email.mime.base import MIMEBase \n",
    "from email import encoders \n",
    "import getpass\n",
    "\n",
    "print(\"================================\")\n",
    "print(\"PROGRAM KIRIM EMAIL OTOMATIS\")\n",
    "print(\"================================\")\n",
    "fromaddr = input(\"Login to Gmail Account: \")\n",
    "pswd = getpass.getpass(\"Masukkan password: \")\n",
    "\n",
    "n=int(input(\"Masukkan jumlah penerima: \"))\n",
    "f=open(\"receiver_list.txt\",\"w\")\n",
    "\n",
    "daftar_email=[]\n",
    "for x in range(n):\n",
    "    tambah=input(\"Masukkan email penerima: \")\n",
    "    daftar_email.append(tambah)\n",
    "    f.write(tambah+'\\n')\n",
    "f.close()\n",
    "\n",
    "sub=[]\n",
    "while len(sub)==0:\n",
    "    sub=input(\"Masukkan subject (wajib): \")\n",
    "\n",
    "isi=input(\"Masukkan pesan anda: \")\n",
    "\n",
    "with_atch=input(\"Ada attachment ? (Y/N): \")\n",
    "while (with_atch!=\"Y\") and (with_atch!=\"N\") :\n",
    "    with_atch=input(\"Ada attachment? (Y/N): \")\n",
    "\n",
    "#Setup the MIME\n",
    "msg = MIMEMultipart()  \n",
    "\n",
    "if with_atch==\"Y\":\n",
    "    atch=input(\"Attachment (1 file): \")\n",
    "    print()\n",
    "    filename = atch\n",
    "    attachment = open(atch,\"rb\") \n",
    "    # instance of MIMEBase and named as p \n",
    "    p = MIMEBase('application', 'octet-stream') \n",
    "    # To change the payload into encoded form \n",
    "    p.set_payload((attachment).read()) \n",
    "    # encode into base64 \n",
    "    encoders.encode_base64(p) \n",
    "    p.add_header('Content-Disposition', \"attachment; filename= %s\" % filename) \n",
    "    # attach the instance 'p' to instance 'msg' \n",
    "    msg.attach(p)\n",
    "\n",
    "if with_atch==\"N\":\n",
    "    print()\n",
    "\n",
    "for x in daftar_email:\n",
    "# storing the senders email address   \n",
    "    msg['From'] = fromaddr \n",
    "# storing the receivers email address  \n",
    "    msg['To'] = x \n",
    "# storing the subject  \n",
    "    msg['Subject'] = sub\n",
    "# string to store the body of the mail \n",
    "    body = isi\n",
    "# attach the body with the msg instance \n",
    "    msg.attach(MIMEText(body, 'plain')) \n",
    "# creates SMTP session \n",
    "    s = smtplib.SMTP('smtp.gmail.com', 587) \n",
    "# start TLS for security \n",
    "    s.starttls() \n",
    "# Authentication \n",
    "    s.login(fromaddr, pswd) \n",
    "# Converts the Multipart msg into a string \n",
    "    text = msg.as_string() \n",
    "# sending the mail \n",
    "    s.sendmail(fromaddr, x, text) \n",
    "# terminating the session \n",
    "    s.quit() \n",
    "\n",
    "print(\"Email succesfully sent\")\n",
    "print(\"-----------------------------------------\")"
   ]
  },
  {
   "cell_type": "code",
   "execution_count": null,
   "id": "committed-spank",
   "metadata": {},
   "outputs": [],
   "source": []
  }
 ],
 "metadata": {
  "kernelspec": {
   "display_name": "Python 3",
   "language": "python",
   "name": "python3"
  },
  "language_info": {
   "codemirror_mode": {
    "name": "ipython",
    "version": 3
   },
   "file_extension": ".py",
   "mimetype": "text/x-python",
   "name": "python",
   "nbconvert_exporter": "python",
   "pygments_lexer": "ipython3",
   "version": "3.9.1"
  }
 },
 "nbformat": 4,
 "nbformat_minor": 5
}
