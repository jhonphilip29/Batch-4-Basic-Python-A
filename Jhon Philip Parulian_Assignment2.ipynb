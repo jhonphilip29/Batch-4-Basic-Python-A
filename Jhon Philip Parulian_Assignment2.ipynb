{
 "cells": [
  {
   "cell_type": "markdown",
   "id": "tamil-craps",
   "metadata": {},
   "source": [
    "## Program Kontak Nomor Telepon"
   ]
  },
  {
   "cell_type": "code",
   "execution_count": 2,
   "id": "neural-algebra",
   "metadata": {},
   "outputs": [
    {
     "name": "stdout",
     "output_type": "stream",
     "text": [
      "Selamat Datang!\n",
      "---Menu--- \n",
      " 1. Daftar Kontak \n",
      " 2. Tambah Kontak \n",
      " 3. Keluar\n",
      " \n"
     ]
    },
    {
     "name": "stdin",
     "output_type": "stream",
     "text": [
      "Pilih menu (1, 2, 3):  1\n"
     ]
    },
    {
     "name": "stdout",
     "output_type": "stream",
     "text": [
      "Daftar kontak kosong\n",
      " \n"
     ]
    },
    {
     "name": "stdin",
     "output_type": "stream",
     "text": [
      "Pilih Menu (1, 2, 3):  2\n",
      "Berapa Kontak Baru yang diinput:  2\n"
     ]
    },
    {
     "name": "stdout",
     "output_type": "stream",
     "text": [
      "Data ke 1\n"
     ]
    },
    {
     "name": "stdin",
     "output_type": "stream",
     "text": [
      "Nama:  Farhan\n",
      "No Telepon:  08123456789\n"
     ]
    },
    {
     "name": "stdout",
     "output_type": "stream",
     "text": [
      "Kontak berhasil ditambahkan\n",
      " \n",
      "Data ke 2\n"
     ]
    },
    {
     "name": "stdin",
     "output_type": "stream",
     "text": [
      "Nama:  Joko\n",
      "No Telepon:  08987654321\n"
     ]
    },
    {
     "name": "stdout",
     "output_type": "stream",
     "text": [
      "Kontak berhasil ditambahkan\n",
      " \n"
     ]
    },
    {
     "name": "stdin",
     "output_type": "stream",
     "text": [
      "Pilih Menu (1, 2, 3):  4\n"
     ]
    },
    {
     "name": "stdout",
     "output_type": "stream",
     "text": [
      "Menu tidak tersedia\n",
      " \n"
     ]
    },
    {
     "name": "stdin",
     "output_type": "stream",
     "text": [
      "Pilih Menu (1, 2, 3):  2\n",
      "Berapa Kontak Baru yang diinput:  1\n"
     ]
    },
    {
     "name": "stdout",
     "output_type": "stream",
     "text": [
      "Data ke 1\n"
     ]
    },
    {
     "name": "stdin",
     "output_type": "stream",
     "text": [
      "Nama:  Jhon\n",
      "No Telepon:  081310103547\n"
     ]
    },
    {
     "name": "stdout",
     "output_type": "stream",
     "text": [
      "Kontak berhasil ditambahkan\n",
      " \n"
     ]
    },
    {
     "name": "stdin",
     "output_type": "stream",
     "text": [
      "Pilih Menu (1, 2, 3):  1\n"
     ]
    },
    {
     "name": "stdout",
     "output_type": "stream",
     "text": [
      "Nama: Farhan \n",
      "No Telepon: 8123456789 \n",
      "\n",
      "Nama: Joko \n",
      "No Telepon: 8987654321 \n",
      "\n",
      "Nama: Jhon \n",
      "No Telepon: 81310103547 \n",
      "\n",
      " \n"
     ]
    },
    {
     "name": "stdin",
     "output_type": "stream",
     "text": [
      "Pilih Menu (1, 2, 3):  3\n"
     ]
    },
    {
     "name": "stdout",
     "output_type": "stream",
     "text": [
      "Program selesai, sampai jumpa!\n",
      " \n"
     ]
    }
   ],
   "source": [
    "print(\"Selamat Datang!\")\n",
    "\n",
    "print(\"---Menu--- \\n 1. Daftar Kontak \\n 2. Tambah Kontak \\n 3. Keluar\")\n",
    "\n",
    "print(\" \")\n",
    "\n",
    "a = input(\"Pilih menu (1, 2, 3): \")\n",
    "\n",
    "nama_kontak = []\n",
    "nomor_kontak = []\n",
    "\n",
    "while True:\n",
    "    if a == \"3\":\n",
    "        print(\"Program selesai, sampai jumpa!\")\n",
    "        print(\" \")\n",
    "        break\n",
    "    elif a == \"1\":\n",
    "        if len(nama_kontak) >= 1:\n",
    "            for j in range(len(nama_kontak)):\n",
    "                print(\"Nama: {} \\nNo Telepon: {} \\n\".format(nama_kontak[j], nomor_kontak[j]))\n",
    "        else:\n",
    "            print(\"Daftar kontak kosong\")\n",
    "        print(\" \")\n",
    "    elif a == \"2\":\n",
    "        count = int(input(\"Berapa Kontak Baru yang diinput: \"))\n",
    "        for i in range(count):\n",
    "            print(\"Data ke {}\".format(i+1))\n",
    "            nama = input(\"Nama: \")\n",
    "            nomor = int(input(\"No Telepon: \"))\n",
    "            nama_kontak.append(nama)\n",
    "            nomor_kontak.append(nomor)\n",
    "            print(\"Kontak berhasil ditambahkan\")\n",
    "            print(\" \")\n",
    "    else:\n",
    "        print(\"Menu tidak tersedia\")\n",
    "        print(\" \")\n",
    "    a = input(\"Pilih Menu (1, 2, 3): \")"
   ]
  },
  {
   "cell_type": "code",
   "execution_count": null,
   "id": "missing-biodiversity",
   "metadata": {},
   "outputs": [],
   "source": []
  }
 ],
 "metadata": {
  "kernelspec": {
   "display_name": "Python 3",
   "language": "python",
   "name": "python3"
  },
  "language_info": {
   "codemirror_mode": {
    "name": "ipython",
    "version": 3
   },
   "file_extension": ".py",
   "mimetype": "text/x-python",
   "name": "python",
   "nbconvert_exporter": "python",
   "pygments_lexer": "ipython3",
   "version": "3.9.1"
  }
 },
 "nbformat": 4,
 "nbformat_minor": 5
}
